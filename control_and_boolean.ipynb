{
 "cells": [
  {
   "cell_type": "code",
   "execution_count": null,
   "id": "72441ecc",
   "metadata": {},
   "outputs": [],
   "source": [
    "# if condition:\n",
    "age = 20\n",
    "\n",
    "if age >= 18:\n",
    "    print(\"You are an adult.\")"
   ]
  },
  {
   "cell_type": "code",
   "execution_count": null,
   "id": "7c97d336",
   "metadata": {},
   "outputs": [],
   "source": [
    "# if else\n",
    "number = 7\n",
    "\n",
    "if number % 2 == 0:  # The modulo operator (%) gives the remainder of a division\n",
    "    print(f\"{number} is an even number.\")\n",
    "else:\n",
    "    print(f\"{number} is an odd number.\")\n",
    "\n",
    "# Output for number = 7: 7 is an odd number.\n",
    "\n",
    "number = 10\n",
    "\n",
    "if number % 2 == 0:\n",
    "    print(f\"{number} is an even number.\")\n",
    "else:\n",
    "    print(f\"{number} is an odd number.\")\n",
    "\n",
    "# Output for number = 10: 10 is an even number."
   ]
  },
  {
   "cell_type": "code",
   "execution_count": null,
   "id": "9fafcd7d",
   "metadata": {},
   "outputs": [
    {
     "name": "stdout",
     "output_type": "stream",
     "text": [
      "Grade: C (Good)\n"
     ]
    }
   ],
   "source": [
    "# if elif else\n",
    "score = 78\n",
    "\n",
    "if score >= 90:\n",
    "    print(\"Grade: A (Excellent!)\")\n",
    "elif score >= 80:\n",
    "    print(\"Grade: B (Very Good)\")\n",
    "elif score >= 70:\n",
    "    print(\"Grade: C (Good)\")\n",
    "elif score >= 60:\n",
    "    print(\"Grade: D (Pass)\")\n",
    "else:\n",
    "    print(\"Grade: F (Fail)\")\n",
    "\n",
    "# You can try changing the 'score' variable to see different outputs:\n",
    "# score = 95  -> Output: Grade: A (Excellent!)\n",
    "# score = 82  -> Output: Grade: B (Very Good)\n",
    "# score = 55  -> Output: Grade: F (Fail)"
   ]
  },
  {
   "cell_type": "code",
   "execution_count": null,
   "id": "d050e3d3",
   "metadata": {},
   "outputs": [],
   "source": [
    "weekend check\n",
    "positive or negative\n",
    "discount elegibility\n",
    "returent discount and price calculator"
   ]
  }
 ],
 "metadata": {
  "kernelspec": {
   "display_name": "Python 3",
   "language": "python",
   "name": "python3"
  },
  "language_info": {
   "codemirror_mode": {
    "name": "ipython",
    "version": 3
   },
   "file_extension": ".py",
   "mimetype": "text/x-python",
   "name": "python",
   "nbconvert_exporter": "python",
   "pygments_lexer": "ipython3",
   "version": "3.11.9"
  }
 },
 "nbformat": 4,
 "nbformat_minor": 5
}
