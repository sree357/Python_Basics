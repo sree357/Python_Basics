{
 "cells": [
  {
   "cell_type": "markdown",
   "id": "4be137c2",
   "metadata": {},
   "source": [
    "Basic display output using print"
   ]
  },
  {
   "cell_type": "code",
   "execution_count": 3,
   "id": "a580dd47",
   "metadata": {},
   "outputs": [
    {
     "name": "stdout",
     "output_type": "stream",
     "text": [
      "Hello world\n"
     ]
    }
   ],
   "source": [
    "print('Hello world')"
   ]
  },
  {
   "cell_type": "code",
   "execution_count": 5,
   "id": "5e785d29",
   "metadata": {},
   "outputs": [
    {
     "name": "stdout",
     "output_type": "stream",
     "text": [
      "hello world \n",
      "I am good\n"
     ]
    }
   ],
   "source": [
    "print('hello world \\nI am good')"
   ]
  },
  {
   "cell_type": "code",
   "execution_count": null,
   "id": "54f82052",
   "metadata": {},
   "outputs": [
    {
     "name": "stdout",
     "output_type": "stream",
     "text": [
      "hell'o world!!!\n"
     ]
    }
   ],
   "source": [
    "print('hello' + ' ' + 'world'+'!!!')"
   ]
  },
  {
   "cell_type": "code",
   "execution_count": null,
   "id": "2d9e9e4e",
   "metadata": {},
   "outputs": [],
   "source": [
    "print('hell\\'o' + ' ' + 'world'+'!!!')"
   ]
  },
  {
   "cell_type": "code",
   "execution_count": 3,
   "id": "c04f8304",
   "metadata": {},
   "outputs": [
    {
     "name": "stdout",
     "output_type": "stream",
     "text": [
      "\n",
      "Programming, also known as coding, is the process of giving instructions to a computer to solve problems or perform specific tasks. It involves writing code, testing it, and maintaining it in one or more programming languages.\n",
      "      \n"
     ]
    }
   ],
   "source": [
    "print('''\n",
    "Programming, also known as coding, is the process of giving instructions to a computer to solve problems or perform specific tasks. It involves writing code, testing it, and maintaining it in one or more programming languages.\n",
    "      ''')"
   ]
  },
  {
   "cell_type": "code",
   "execution_count": 1,
   "id": "58a5b434",
   "metadata": {},
   "outputs": [
    {
     "name": "stdout",
     "output_type": "stream",
     "text": [
      "my name is sree\n"
     ]
    }
   ],
   "source": [
    "print('my name is '+input('enter the name'))"
   ]
  },
  {
   "cell_type": "markdown",
   "id": "47bb8778",
   "metadata": {},
   "source": [
    "task1"
   ]
  }
 ],
 "metadata": {
  "kernelspec": {
   "display_name": "Python 3",
   "language": "python",
   "name": "python3"
  },
  "language_info": {
   "codemirror_mode": {
    "name": "ipython",
    "version": 3
   },
   "file_extension": ".py",
   "mimetype": "text/x-python",
   "name": "python",
   "nbconvert_exporter": "python",
   "pygments_lexer": "ipython3",
   "version": "3.11.9"
  }
 },
 "nbformat": 4,
 "nbformat_minor": 5
}
